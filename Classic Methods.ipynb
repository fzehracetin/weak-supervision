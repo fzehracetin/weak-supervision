{
 "cells": [
  {
   "cell_type": "markdown",
   "metadata": {},
   "source": [
    "### Load the train dataset."
   ]
  },
  {
   "cell_type": "code",
   "execution_count": 76,
   "metadata": {},
   "outputs": [
    {
     "name": "stdout",
     "output_type": "stream",
     "text": [
      "920\n"
     ]
    },
    {
     "data": {
      "text/html": [
       "<div>\n",
       "<style scoped>\n",
       "    .dataframe tbody tr th:only-of-type {\n",
       "        vertical-align: middle;\n",
       "    }\n",
       "\n",
       "    .dataframe tbody tr th {\n",
       "        vertical-align: top;\n",
       "    }\n",
       "\n",
       "    .dataframe thead th {\n",
       "        text-align: right;\n",
       "    }\n",
       "</style>\n",
       "<table border=\"1\" class=\"dataframe\">\n",
       "  <thead>\n",
       "    <tr style=\"text-align: right;\">\n",
       "      <th></th>\n",
       "      <th>Haber</th>\n",
       "      <th>Sınıf</th>\n",
       "      <th>Tokenized</th>\n",
       "      <th>File names</th>\n",
       "    </tr>\n",
       "  </thead>\n",
       "  <tbody>\n",
       "    <tr>\n",
       "      <th>0</th>\n",
       "      <td>i̇mkb endeksi hafta başında 19.608 puanı gördü...</td>\n",
       "      <td>0</td>\n",
       "      <td>0</td>\n",
       "      <td>140.txt</td>\n",
       "    </tr>\n",
       "    <tr>\n",
       "      <th>1</th>\n",
       "      <td>yatırımcı başbakan'a ilanla seslendi  kars'tak...</td>\n",
       "      <td>0</td>\n",
       "      <td>0</td>\n",
       "      <td>141.txt</td>\n",
       "    </tr>\n",
       "    <tr>\n",
       "      <th>2</th>\n",
       "      <td>ulaştırma bakanlığı'nın, tek uçağı bulunan sag...</td>\n",
       "      <td>0</td>\n",
       "      <td>0</td>\n",
       "      <td>142.txt</td>\n",
       "    </tr>\n",
       "    <tr>\n",
       "      <th>3</th>\n",
       "      <td>merko gıda dört tesisini kiraladı  oyakbank'a ...</td>\n",
       "      <td>0</td>\n",
       "      <td>0</td>\n",
       "      <td>143.txt</td>\n",
       "    </tr>\n",
       "    <tr>\n",
       "      <th>4</th>\n",
       "      <td>ulaştırma bakanı binali yıldırım, aycell - ari...</td>\n",
       "      <td>0</td>\n",
       "      <td>0</td>\n",
       "      <td>144.txt</td>\n",
       "    </tr>\n",
       "    <tr>\n",
       "      <th>...</th>\n",
       "      <td>...</td>\n",
       "      <td>...</td>\n",
       "      <td>...</td>\n",
       "      <td>...</td>\n",
       "    </tr>\n",
       "    <tr>\n",
       "      <th>915</th>\n",
       "      <td>devler play-off’ta   erkekler voleybol 1.ligi’...</td>\n",
       "      <td>4</td>\n",
       "      <td>0</td>\n",
       "      <td>Kopyas 396.txt</td>\n",
       "    </tr>\n",
       "    <tr>\n",
       "      <th>916</th>\n",
       "      <td>barışın ağır bedeli       alın dijital alt yap...</td>\n",
       "      <td>4</td>\n",
       "      <td>0</td>\n",
       "      <td>Kopyas 397.txt</td>\n",
       "    </tr>\n",
       "    <tr>\n",
       "      <th>917</th>\n",
       "      <td>hırsız, hietanen’in başını yaktı      deni̇zli...</td>\n",
       "      <td>4</td>\n",
       "      <td>0</td>\n",
       "      <td>Kopyas 398.txt</td>\n",
       "    </tr>\n",
       "    <tr>\n",
       "      <th>918</th>\n",
       "      <td>luce’ni̇n i̇syani   zago’nun pozisyon hatası y...</td>\n",
       "      <td>4</td>\n",
       "      <td>0</td>\n",
       "      <td>Kopyas 399.txt</td>\n",
       "    </tr>\n",
       "    <tr>\n",
       "      <th>919</th>\n",
       "      <td>i̇yi, kötü ve çirkin       i̇nönü’de tarihi bi...</td>\n",
       "      <td>4</td>\n",
       "      <td>0</td>\n",
       "      <td>Kopyas 400.txt</td>\n",
       "    </tr>\n",
       "  </tbody>\n",
       "</table>\n",
       "<p>920 rows × 4 columns</p>\n",
       "</div>"
      ],
      "text/plain": [
       "                                                 Haber  Sınıf  Tokenized  \\\n",
       "0    i̇mkb endeksi hafta başında 19.608 puanı gördü...      0          0   \n",
       "1    yatırımcı başbakan'a ilanla seslendi  kars'tak...      0          0   \n",
       "2    ulaştırma bakanlığı'nın, tek uçağı bulunan sag...      0          0   \n",
       "3    merko gıda dört tesisini kiraladı  oyakbank'a ...      0          0   \n",
       "4    ulaştırma bakanı binali yıldırım, aycell - ari...      0          0   \n",
       "..                                                 ...    ...        ...   \n",
       "915  devler play-off’ta   erkekler voleybol 1.ligi’...      4          0   \n",
       "916  barışın ağır bedeli       alın dijital alt yap...      4          0   \n",
       "917  hırsız, hietanen’in başını yaktı      deni̇zli...      4          0   \n",
       "918  luce’ni̇n i̇syani   zago’nun pozisyon hatası y...      4          0   \n",
       "919  i̇yi, kötü ve çirkin       i̇nönü’de tarihi bi...      4          0   \n",
       "\n",
       "          File names  \n",
       "0            140.txt  \n",
       "1            141.txt  \n",
       "2            142.txt  \n",
       "3            143.txt  \n",
       "4            144.txt  \n",
       "..               ...  \n",
       "915  Kopyas 396.txt  \n",
       "916  Kopyas 397.txt  \n",
       "917  Kopyas 398.txt  \n",
       "918  Kopyas 399.txt  \n",
       "919  Kopyas 400.txt  \n",
       "\n",
       "[920 rows x 4 columns]"
      ]
     },
     "execution_count": 76,
     "metadata": {},
     "output_type": "execute_result"
    }
   ],
   "source": [
    "import os\n",
    "import random\n",
    "import pandas as pd\n",
    "\n",
    "news = []\n",
    "labels = []\n",
    "i = 0\n",
    "\n",
    "for directory in os.listdir(\"1150haber/raw_texts/\"):\n",
    "    for filename in os.listdir(\"1150haber/raw_texts/\" + directory):\n",
    "        f = open(\"1150haber/raw_texts/\" + directory + \"/\" + filename, \"r\", encoding=\"windows-1254\")\n",
    "        new = f.read().replace(\"\\n\", \" \")\n",
    "        new = new.lower()\n",
    "        news.append(new)\n",
    "        labels.append(i)\n",
    "        filenames.append(filename)\n",
    "    i += 1\n",
    "        \n",
    "print(len(news))\n",
    "\n",
    "data = {\"Haber\": news, \"Sınıf\": labels}\n",
    "df_train = pd.DataFrame(data)\n",
    "# df_train = df_train.sample(frac = 1).reset_index(drop=True)\n",
    "df_train.sample(920).sort_index()"
   ]
  },
  {
   "cell_type": "markdown",
   "metadata": {},
   "source": [
    "### Load mini train dataset."
   ]
  },
  {
   "cell_type": "code",
   "execution_count": 129,
   "metadata": {},
   "outputs": [
    {
     "name": "stdout",
     "output_type": "stream",
     "text": [
      "100\n"
     ]
    },
    {
     "data": {
      "text/html": [
       "<div>\n",
       "<style scoped>\n",
       "    .dataframe tbody tr th:only-of-type {\n",
       "        vertical-align: middle;\n",
       "    }\n",
       "\n",
       "    .dataframe tbody tr th {\n",
       "        vertical-align: top;\n",
       "    }\n",
       "\n",
       "    .dataframe thead th {\n",
       "        text-align: right;\n",
       "    }\n",
       "</style>\n",
       "<table border=\"1\" class=\"dataframe\">\n",
       "  <thead>\n",
       "    <tr style=\"text-align: right;\">\n",
       "      <th></th>\n",
       "      <th>Haber</th>\n",
       "      <th>Sınıf</th>\n",
       "    </tr>\n",
       "  </thead>\n",
       "  <tbody>\n",
       "    <tr>\n",
       "      <th>40</th>\n",
       "      <td>sağlık bakanı recep akdağ, kısa adı sabi̇m ola...</td>\n",
       "      <td>2</td>\n",
       "    </tr>\n",
       "    <tr>\n",
       "      <th>72</th>\n",
       "      <td>suçlu, ayağa kalk       artık kapatma davaları...</td>\n",
       "      <td>3</td>\n",
       "    </tr>\n",
       "    <tr>\n",
       "      <th>11</th>\n",
       "      <td>i̇stanbul - genç parti genel başkanı cem uzan,...</td>\n",
       "      <td>0</td>\n",
       "    </tr>\n",
       "    <tr>\n",
       "      <th>92</th>\n",
       "      <td>aybaba’ya destek   özkan sümer, tecrübeli hoca...</td>\n",
       "      <td>4</td>\n",
       "    </tr>\n",
       "    <tr>\n",
       "      <th>71</th>\n",
       "      <td>ab'ye karşı i̇kö resti       rumların, \"ab de ...</td>\n",
       "      <td>3</td>\n",
       "    </tr>\n",
       "    <tr>\n",
       "      <th>67</th>\n",
       "      <td>shp lideri murat karayalçın, chp'nin yerel seç...</td>\n",
       "      <td>3</td>\n",
       "    </tr>\n",
       "    <tr>\n",
       "      <th>31</th>\n",
       "      <td>tuba ünsal ile cem cantaş'ın önceki hafta gizl...</td>\n",
       "      <td>1</td>\n",
       "    </tr>\n",
       "    <tr>\n",
       "      <th>45</th>\n",
       "      <td>mevsim değişikliklerinde sıkça karşılaşılan so...</td>\n",
       "      <td>2</td>\n",
       "    </tr>\n",
       "    <tr>\n",
       "      <th>29</th>\n",
       "      <td>hasreti bitiyor!         ebru şallı-harun tan ...</td>\n",
       "      <td>1</td>\n",
       "    </tr>\n",
       "    <tr>\n",
       "      <th>22</th>\n",
       "      <td>eğlence 'engel' tanımıyor...   sosyetenin gözd...</td>\n",
       "      <td>1</td>\n",
       "    </tr>\n",
       "    <tr>\n",
       "      <th>28</th>\n",
       "      <td>ruslana diplomatik kriz yarattı   eurovision b...</td>\n",
       "      <td>1</td>\n",
       "    </tr>\n",
       "    <tr>\n",
       "      <th>62</th>\n",
       "      <td>komutanlar ömer dinçer'i terletecek!       rej...</td>\n",
       "      <td>3</td>\n",
       "    </tr>\n",
       "    <tr>\n",
       "      <th>36</th>\n",
       "      <td>hande bikinili görüntü vermek istemedi   yaz o...</td>\n",
       "      <td>1</td>\n",
       "    </tr>\n",
       "    <tr>\n",
       "      <th>19</th>\n",
       "      <td>i̇ran: türkiye doğalgazda 2005'i beklemeli    ...</td>\n",
       "      <td>0</td>\n",
       "    </tr>\n",
       "    <tr>\n",
       "      <th>27</th>\n",
       "      <td>aşkı ikinci eşinde buldu   aşk, şebnem dinçgör...</td>\n",
       "      <td>1</td>\n",
       "    </tr>\n",
       "    <tr>\n",
       "      <th>50</th>\n",
       "      <td>fırat üniversitesi fırat tıp merkezi kadın has...</td>\n",
       "      <td>2</td>\n",
       "    </tr>\n",
       "    <tr>\n",
       "      <th>78</th>\n",
       "      <td>'ruhban okulu' formülü hazır  dışişleri bakanl...</td>\n",
       "      <td>3</td>\n",
       "    </tr>\n",
       "    <tr>\n",
       "      <th>51</th>\n",
       "      <td>çin ' de aids tedavi merkezi sonunda açıldı.. ...</td>\n",
       "      <td>2</td>\n",
       "    </tr>\n",
       "    <tr>\n",
       "      <th>54</th>\n",
       "      <td>genellikle yaz mevsiminde havuz ve deniz suyun...</td>\n",
       "      <td>2</td>\n",
       "    </tr>\n",
       "    <tr>\n",
       "      <th>8</th>\n",
       "      <td>i̇stanbul gaz dağıtım sanayi ve ticaret a.ş.'d...</td>\n",
       "      <td>0</td>\n",
       "    </tr>\n",
       "  </tbody>\n",
       "</table>\n",
       "</div>"
      ],
      "text/plain": [
       "                                                Haber  Sınıf\n",
       "40  sağlık bakanı recep akdağ, kısa adı sabi̇m ola...      2\n",
       "72  suçlu, ayağa kalk       artık kapatma davaları...      3\n",
       "11  i̇stanbul - genç parti genel başkanı cem uzan,...      0\n",
       "92  aybaba’ya destek   özkan sümer, tecrübeli hoca...      4\n",
       "71  ab'ye karşı i̇kö resti       rumların, \"ab de ...      3\n",
       "67  shp lideri murat karayalçın, chp'nin yerel seç...      3\n",
       "31  tuba ünsal ile cem cantaş'ın önceki hafta gizl...      1\n",
       "45  mevsim değişikliklerinde sıkça karşılaşılan so...      2\n",
       "29  hasreti bitiyor!         ebru şallı-harun tan ...      1\n",
       "22  eğlence 'engel' tanımıyor...   sosyetenin gözd...      1\n",
       "28  ruslana diplomatik kriz yarattı   eurovision b...      1\n",
       "62  komutanlar ömer dinçer'i terletecek!       rej...      3\n",
       "36  hande bikinili görüntü vermek istemedi   yaz o...      1\n",
       "19  i̇ran: türkiye doğalgazda 2005'i beklemeli    ...      0\n",
       "27  aşkı ikinci eşinde buldu   aşk, şebnem dinçgör...      1\n",
       "50  fırat üniversitesi fırat tıp merkezi kadın has...      2\n",
       "78  'ruhban okulu' formülü hazır  dışişleri bakanl...      3\n",
       "51  çin ' de aids tedavi merkezi sonunda açıldı.. ...      2\n",
       "54  genellikle yaz mevsiminde havuz ve deniz suyun...      2\n",
       "8   i̇stanbul gaz dağıtım sanayi ve ticaret a.ş.'d...      0"
      ]
     },
     "execution_count": 129,
     "metadata": {},
     "output_type": "execute_result"
    }
   ],
   "source": [
    "import os\n",
    "import random\n",
    "import pandas as pd\n",
    "\n",
    "news = []\n",
    "labels = []\n",
    "i = 0\n",
    "\n",
    "for directory in os.listdir(\"1150haber/20 news/\"):\n",
    "    for filename in os.listdir(\"1150haber/20 news/\" + directory):\n",
    "        f = open(\"1150haber/20 news/\" + directory + \"/\" + filename, \"r\", encoding=\"windows-1254\")\n",
    "        new = f.read().replace(\"\\n\", \" \")\n",
    "        new = new.lower()\n",
    "        news.append(new)\n",
    "        labels.append(i)\n",
    "    i += 1\n",
    "        \n",
    "print(len(news))\n",
    "\n",
    "data = {\"Haber\": news, \"Sınıf\": labels}\n",
    "df_train = pd.DataFrame(data)\n",
    "df_train[\"Haber\"] = df_train[\"Haber\"].apply(str)\n",
    "df_train.sample(20)"
   ]
  },
  {
   "cell_type": "markdown",
   "metadata": {},
   "source": [
    "### Load the test dataset."
   ]
  },
  {
   "cell_type": "code",
   "execution_count": 130,
   "metadata": {},
   "outputs": [
    {
     "name": "stdout",
     "output_type": "stream",
     "text": [
      "230\n"
     ]
    },
    {
     "data": {
      "text/html": [
       "<div>\n",
       "<style scoped>\n",
       "    .dataframe tbody tr th:only-of-type {\n",
       "        vertical-align: middle;\n",
       "    }\n",
       "\n",
       "    .dataframe tbody tr th {\n",
       "        vertical-align: top;\n",
       "    }\n",
       "\n",
       "    .dataframe thead th {\n",
       "        text-align: right;\n",
       "    }\n",
       "</style>\n",
       "<table border=\"1\" class=\"dataframe\">\n",
       "  <thead>\n",
       "    <tr style=\"text-align: right;\">\n",
       "      <th></th>\n",
       "      <th>Haber</th>\n",
       "      <th>Sınıf</th>\n",
       "    </tr>\n",
       "  </thead>\n",
       "  <tbody>\n",
       "    <tr>\n",
       "      <th>0</th>\n",
       "      <td>ankara - türk telekom'un indirim reklamları sa...</td>\n",
       "      <td>0</td>\n",
       "    </tr>\n",
       "    <tr>\n",
       "      <th>1</th>\n",
       "      <td>tahran - i̇ran cumhurbaşkanı muhammed hatemi, ...</td>\n",
       "      <td>0</td>\n",
       "    </tr>\n",
       "    <tr>\n",
       "      <th>2</th>\n",
       "      <td>türkiye'den zam kararıyla ilgili yapılan açıkl...</td>\n",
       "      <td>0</td>\n",
       "    </tr>\n",
       "    <tr>\n",
       "      <th>3</th>\n",
       "      <td>ankara sanayi odası (aso) başkanı zafer çağlay...</td>\n",
       "      <td>0</td>\n",
       "    </tr>\n",
       "    <tr>\n",
       "      <th>4</th>\n",
       "      <td>yatırım yapan kazanacak  anadolu hayat emeklil...</td>\n",
       "      <td>0</td>\n",
       "    </tr>\n",
       "    <tr>\n",
       "      <th>...</th>\n",
       "      <td>...</td>\n",
       "      <td>...</td>\n",
       "    </tr>\n",
       "    <tr>\n",
       "      <th>225</th>\n",
       "      <td>rallide buzlu start!   dünya ralli şampiyonası...</td>\n",
       "      <td>4</td>\n",
       "    </tr>\n",
       "    <tr>\n",
       "      <th>226</th>\n",
       "      <td>şampiyondan tanıtım       formula 1’de geçen y...</td>\n",
       "      <td>4</td>\n",
       "    </tr>\n",
       "    <tr>\n",
       "      <th>227</th>\n",
       "      <td>gunes’ten zeytin dali   milli takım hocası, dü...</td>\n",
       "      <td>4</td>\n",
       "    </tr>\n",
       "    <tr>\n",
       "      <th>228</th>\n",
       "      <td>erol taş attı       gökhan türe       futbol y...</td>\n",
       "      <td>4</td>\n",
       "    </tr>\n",
       "    <tr>\n",
       "      <th>229</th>\n",
       "      <td>çupi’yi andık       türk spor yazarlığı’nın du...</td>\n",
       "      <td>4</td>\n",
       "    </tr>\n",
       "  </tbody>\n",
       "</table>\n",
       "<p>230 rows × 2 columns</p>\n",
       "</div>"
      ],
      "text/plain": [
       "                                                 Haber  Sınıf\n",
       "0    ankara - türk telekom'un indirim reklamları sa...      0\n",
       "1    tahran - i̇ran cumhurbaşkanı muhammed hatemi, ...      0\n",
       "2    türkiye'den zam kararıyla ilgili yapılan açıkl...      0\n",
       "3    ankara sanayi odası (aso) başkanı zafer çağlay...      0\n",
       "4    yatırım yapan kazanacak  anadolu hayat emeklil...      0\n",
       "..                                                 ...    ...\n",
       "225  rallide buzlu start!   dünya ralli şampiyonası...      4\n",
       "226  şampiyondan tanıtım       formula 1’de geçen y...      4\n",
       "227  gunes’ten zeytin dali   milli takım hocası, dü...      4\n",
       "228  erol taş attı       gökhan türe       futbol y...      4\n",
       "229  çupi’yi andık       türk spor yazarlığı’nın du...      4\n",
       "\n",
       "[230 rows x 2 columns]"
      ]
     },
     "execution_count": 130,
     "metadata": {},
     "output_type": "execute_result"
    }
   ],
   "source": [
    "import os\n",
    "import random\n",
    "import pandas as pd\n",
    "\n",
    "news = []\n",
    "labels = []\n",
    "i = 0\n",
    "\n",
    "for directory in os.listdir(\"1150haber/test/\"):\n",
    "    for filename in os.listdir(\"1150haber/test/\" + directory):\n",
    "        f = open(\"1150haber/test/\" + directory + \"/\" + filename, \"r\", encoding=\"windows-1254\")\n",
    "        new = f.read().replace(\"\\n\", \" \")\n",
    "        new = new.lower()\n",
    "        news.append(new)\n",
    "        labels.append(i)\n",
    "    i += 1\n",
    "   \n",
    "print(len(news))\n",
    "\n",
    "data = {\"Haber\": news, \"Sınıf\": labels}\n",
    "df_test = pd.DataFrame(data)\n",
    "df_test[\"Haber\"] = df_test[\"Haber\"].apply(str)\n",
    "#df_test = df_test.sample(frac = 1).reset_index(drop=True)\n",
    "df_test.sample(230).sort_index()"
   ]
  },
  {
   "cell_type": "markdown",
   "metadata": {},
   "source": [
    "## Preprocess"
   ]
  },
  {
   "cell_type": "code",
   "execution_count": 131,
   "metadata": {},
   "outputs": [],
   "source": [
    "import string\n",
    "import nltk\n",
    "from nltk.tokenize import word_tokenize\n",
    "\n",
    "# Remove punctuation\n",
    "df_train[\"Haber\"] = [news.translate(str.maketrans('', '', string.punctuation)) for news in df_train['Haber']]\n",
    "df_train[\"Haber\"] = [''.join([i for i in news if not i.isdigit()]) for news in df_train['Haber']]\n",
    "\n",
    "df_train[\"Haber\"] = df_train[\"Haber\"].apply(str) # to lowercase\n",
    "# df_train['Tokenized'] = [word_tokenize(entry) for entry in df_train['Haber']] # tokenize by words"
   ]
  },
  {
   "cell_type": "code",
   "execution_count": 132,
   "metadata": {},
   "outputs": [],
   "source": [
    "# Remove punctuation\n",
    "df_test[\"Haber\"] = [news.translate(str.maketrans('', '', string.punctuation)) for news in df_test['Haber']]\n",
    "df_train[\"Haber\"] = [''.join([i for i in news if not i.isdigit()]) for news in df_train['Haber']]\n",
    "\n",
    "df_test[\"Haber\"] = df_test[\"Haber\"].apply(str) # to lowercase\n",
    "# df_test['Tokenized'] = [word_tokenize(entry) for entry in df_test['Haber']] # tokenize by words"
   ]
  },
  {
   "cell_type": "code",
   "execution_count": 133,
   "metadata": {},
   "outputs": [],
   "source": [
    "X_train = df_train.Haber.tolist()\n",
    "Y_train = df_train.Sınıf.tolist()\n",
    "\n",
    "X_test = df_test.Haber.tolist()\n",
    "Y_test = df_test.Sınıf.tolist()"
   ]
  },
  {
   "cell_type": "code",
   "execution_count": 134,
   "metadata": {},
   "outputs": [],
   "source": [
    "from sklearn.feature_extraction.text import CountVectorizer\n",
    "\n",
    "count_vect = CountVectorizer()\n",
    "\n",
    "X_train_vec = count_vect.fit_transform(X_train)\n",
    "X_test_vec = count_vect.transform(X_test)"
   ]
  },
  {
   "cell_type": "code",
   "execution_count": 135,
   "metadata": {},
   "outputs": [
    {
     "data": {
      "text/plain": [
       "(100, 9125)"
      ]
     },
     "execution_count": 135,
     "metadata": {},
     "output_type": "execute_result"
    }
   ],
   "source": [
    "X_train_vec.shape"
   ]
  },
  {
   "cell_type": "code",
   "execution_count": 136,
   "metadata": {},
   "outputs": [
    {
     "data": {
      "text/plain": [
       "(100, 9125)"
      ]
     },
     "execution_count": 136,
     "metadata": {},
     "output_type": "execute_result"
    }
   ],
   "source": [
    "from sklearn.feature_extraction.text import TfidfTransformer\n",
    "tfidf_transformer = TfidfTransformer()\n",
    "\n",
    "X_train_tfidf = tfidf_transformer.fit_transform(X_train_vec)\n",
    "X_train_tfidf.shape"
   ]
  },
  {
   "cell_type": "markdown",
   "metadata": {},
   "source": [
    "### Logistic Regression"
   ]
  },
  {
   "cell_type": "code",
   "execution_count": 137,
   "metadata": {},
   "outputs": [
    {
     "name": "stdout",
     "output_type": "stream",
     "text": [
      "Test Accuracy: 68.7%\n"
     ]
    }
   ],
   "source": [
    "from sklearn.linear_model import LogisticRegression\n",
    "\n",
    "sklearn_model = LogisticRegression(C=1e3, solver=\"liblinear\")\n",
    "sklearn_model.fit(X=X_train_tfidf, y=Y_train)\n",
    "\n",
    "print(f\"Test Accuracy: {sklearn_model.score(X=X_test_vec, y=Y_test) * 100:.1f}%\")"
   ]
  },
  {
   "cell_type": "markdown",
   "metadata": {},
   "source": [
    "### Naive Bayes"
   ]
  },
  {
   "cell_type": "code",
   "execution_count": 138,
   "metadata": {},
   "outputs": [
    {
     "name": "stdout",
     "output_type": "stream",
     "text": [
      "Naive Bayes Accuracy Score ->  68.69565217391305\n"
     ]
    }
   ],
   "source": [
    "from sklearn.metrics import accuracy_score\n",
    "from sklearn import naive_bayes\n",
    "\n",
    "# fit the training dataset on the NB classifier\n",
    "Naive = naive_bayes.MultinomialNB()\n",
    "Naive.fit(X_train_tfidf,Y_train)\n",
    "\n",
    "# predict the labels on validation dataset\n",
    "predictions_NB = Naive.predict(X_test_vec)\n",
    "\n",
    "# Use accuracy_score function to get the accuracy\n",
    "print(\"Naive Bayes Accuracy Score -> \", accuracy_score(predictions_NB, Y_test)*100)"
   ]
  },
  {
   "cell_type": "markdown",
   "metadata": {},
   "source": [
    "### SVM"
   ]
  },
  {
   "cell_type": "code",
   "execution_count": 139,
   "metadata": {},
   "outputs": [
    {
     "name": "stdout",
     "output_type": "stream",
     "text": [
      "SVM Accuracy Score ->  68.26086956521739\n"
     ]
    }
   ],
   "source": [
    "from sklearn import svm\n",
    "# Classifier - Algorithm - SVM\n",
    "# fit the training dataset on the classifier\n",
    "\n",
    "SVM = svm.SVC(C=1.0, kernel='linear', degree=3, gamma='auto')\n",
    "SVM.fit(X_train_tfidf, Y_train)\n",
    "\n",
    "# predict the labels on validation dataset\n",
    "predictions_SVM = SVM.predict(X_test_vec)\n",
    "\n",
    "# Use accuracy_score function to get the accuracy\n",
    "print(\"SVM Accuracy Score -> \", accuracy_score(predictions_SVM, Y_test)*100)"
   ]
  }
 ],
 "metadata": {
  "kernelspec": {
   "display_name": "Python [conda env:snorkel]",
   "language": "python",
   "name": "conda-env-snorkel-py"
  },
  "language_info": {
   "codemirror_mode": {
    "name": "ipython",
    "version": 3
   },
   "file_extension": ".py",
   "mimetype": "text/x-python",
   "name": "python",
   "nbconvert_exporter": "python",
   "pygments_lexer": "ipython3",
   "version": "3.6.12"
  }
 },
 "nbformat": 4,
 "nbformat_minor": 2
}
