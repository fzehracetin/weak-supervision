{
 "cells": [
  {
   "cell_type": "code",
   "execution_count": 29,
   "metadata": {},
   "outputs": [],
   "source": [
    "import os\n",
    "import csv"
   ]
  },
  {
   "cell_type": "code",
   "execution_count": 24,
   "metadata": {},
   "outputs": [],
   "source": [
    "def delete_punctuation(word):\n",
    "    word = word.strip('.')\n",
    "    word = word.strip(',')\n",
    "    word = word.strip('\"')\n",
    "    word = word.strip('-')\n",
    "    word = word.strip(\"'\")\n",
    "    word = word.strip(';')\n",
    "    word = word.strip(':')\n",
    "    word = word.strip('?')\n",
    "    word = word.strip('!')"
   ]
  },
  {
   "cell_type": "code",
   "execution_count": 35,
   "metadata": {},
   "outputs": [],
   "source": [
    "def write_to_csv(dictionary, name):\n",
    "    writer = csv.writer(open(\"D:/School n Stuff/NOVA Research/Projects/Weak Supervision/\" + name + \".csv\", \"w\", encoding=\"windows-1254\"))\n",
    "    for key, val in dictionary.items():\n",
    "        try:\n",
    "            writer.writerow([key, val])\n",
    "        except:\n",
    "            continue"
   ]
  },
  {
   "cell_type": "code",
   "execution_count": 38,
   "metadata": {},
   "outputs": [],
   "source": [
    "def find_frequenty(news_type):\n",
    "    path = \"D:/School n Stuff/NOVA Research/Projects/Weak Supervision/1150haber/raw_texts/\"\n",
    "    dictionary = {}\n",
    "    for filename in os.listdir(path + news_type + \"/\"):\n",
    "        f = open(path + news_type + \"/\" + filename, \"r\", encoding=\"windows-1254\")\n",
    "\n",
    "        for line in f:\n",
    "            for word in line.split():\n",
    "                word = word.lower()\n",
    "                delete_punctuation(word)\n",
    "                if word in dictionary:\n",
    "                    dictionary[word] += 1\n",
    "                else:\n",
    "                    dictionary[word] = 1\n",
    "        dictionary = {key: value for key, value in sorted(dictionary.items(), key=lambda item: item[1], reverse=True)}\n",
    "        write_to_csv(dictionary, news_type + \"_scores\")"
   ]
  },
  {
   "cell_type": "code",
   "execution_count": 42,
   "metadata": {},
   "outputs": [],
   "source": [
    "find_frequenty(\"spor\")\n",
    "find_frequenty(\"magazin\")\n",
    "find_frequenty(\"saglik\")\n",
    "find_frequenty(\"ekonomi\")\n",
    "find_frequenty(\"siyasi\")"
   ]
  }
 ],
 "metadata": {
  "kernelspec": {
   "display_name": "Python [conda env:root] *",
   "language": "python",
   "name": "conda-root-py"
  },
  "language_info": {
   "codemirror_mode": {
    "name": "ipython",
    "version": 3
   },
   "file_extension": ".py",
   "mimetype": "text/x-python",
   "name": "python",
   "nbconvert_exporter": "python",
   "pygments_lexer": "ipython3",
   "version": "3.7.3"
  }
 },
 "nbformat": 4,
 "nbformat_minor": 2
}
