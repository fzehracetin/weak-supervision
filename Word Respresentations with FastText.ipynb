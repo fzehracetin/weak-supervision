{
 "cells": [
  {
   "cell_type": "markdown",
   "metadata": {},
   "source": [
    "### Load training data"
   ]
  },
  {
   "cell_type": "code",
   "execution_count": 12,
   "metadata": {},
   "outputs": [
    {
     "name": "stdout",
     "output_type": "stream",
     "text": [
      "920\n"
     ]
    }
   ],
   "source": [
    "import os\n",
    "import random\n",
    "import pandas as pd\n",
    "\n",
    "news = []\n",
    "\n",
    "for directory in os.listdir(\"1150haber/raw_texts/\"):\n",
    "    for filename in os.listdir(\"1150haber/raw_texts/\" + directory):\n",
    "        f = open(\"1150haber/raw_texts/\" + directory + \"/\" + filename, \"r\", encoding=\"windows-1254\")\n",
    "        new = f.read().replace(\"\\n\", \" \")\n",
    "        new = new.lower()\n",
    "        news.append(new)\n",
    "        \n",
    "random.shuffle(news)\n",
    "print(len(news))"
   ]
  },
  {
   "cell_type": "markdown",
   "metadata": {},
   "source": [
    "### Preprocess"
   ]
  },
  {
   "cell_type": "code",
   "execution_count": 13,
   "metadata": {},
   "outputs": [
    {
     "data": {
      "text/plain": [
       "'türkiye denizgüneş ve kum turizminin yanısıra sağlık turizminde de ilgi gören yerlerden biri birçok kaplıca ve ılıca bu amaca hizmet ediyor hem tatil yapmak hem de sağlıklı olmak isteyenler tercih ettiği yerlerden biri de i̇zmir çeşme’deki şifne kaplıcaları birçok yerli ve yabancı turistin ilgisini çeken şifne kaplıcalarının efsanesi de var efsaneye göre bölgede hüküm süren kralın kızında ortaya çıkan amansız cilt hastalığına iyi geldiği söylenen şifalı çamurdan yararlanmak için şifne’ye gidiyor önce termal suda ciltteki gözeneklerinin açılmasını sağlayan ziyaretçiler sonra da vücutları çamurla kaplıyor çamuru kurumasından sonra sıra şifalı çamurdan arınmaya geliyor duş alan kaplıca müdevimleri bir kez daha termal havuza giriyor   çamur banyosunda amaç hem sağlıklı olmak hem de daha genç ve diri görünmek merkezde aynı zamanda isteyenlere rahatlatıcı özel masaj da yapılıyor  '"
      ]
     },
     "execution_count": 13,
     "metadata": {},
     "output_type": "execute_result"
    }
   ],
   "source": [
    "import string\n",
    "news = [new.translate(str.maketrans('', '', string.punctuation)) for new in news]\n",
    "news = [''.join([i for i in new if not i.isdigit()]) for new in news]\n",
    "news[0]"
   ]
  },
  {
   "cell_type": "markdown",
   "metadata": {},
   "source": [
    "### Tokenizer"
   ]
  },
  {
   "cell_type": "code",
   "execution_count": 14,
   "metadata": {},
   "outputs": [],
   "source": [
    "from nltk.tokenize import word_tokenize\n",
    "\n",
    "news = [word_tokenize(new) for new in news]"
   ]
  },
  {
   "cell_type": "markdown",
   "metadata": {},
   "source": [
    "### FastText Word Representations"
   ]
  },
  {
   "cell_type": "code",
   "execution_count": 18,
   "metadata": {},
   "outputs": [],
   "source": [
    "from gensim.models import FastText\n",
    "\n",
    "model_news = FastText(news, size=100, window=5, min_count=5, workers=4,sg=1)"
   ]
  },
  {
   "cell_type": "code",
   "execution_count": 71,
   "metadata": {},
   "outputs": [
    {
     "data": {
      "text/plain": [
       "[('ligi', 0.995782196521759),\n",
       " ('şampiyonası', 0.9905402064323425),\n",
       " ('şampiyonu', 0.9901835918426514),\n",
       " ('şampiyon', 0.9830332398414612),\n",
       " ('ligin', 0.9822487235069275),\n",
       " ('a', 0.9821140766143799),\n",
       " ('lige', 0.9815390706062317),\n",
       " ('kupası', 0.9796938300132751),\n",
       " ('tur', 0.979525625705719),\n",
       " ('şampiyonluğu', 0.9775150418281555)]"
      ]
     },
     "execution_count": 71,
     "metadata": {},
     "output_type": "execute_result"
    }
   ],
   "source": [
    "model_news.wv.most_similar(\"lig\")"
   ]
  },
  {
   "cell_type": "markdown",
   "metadata": {},
   "source": [
    "### Save to disk."
   ]
  },
  {
   "cell_type": "code",
   "execution_count": 30,
   "metadata": {},
   "outputs": [],
   "source": [
    "import tempfile\n",
    "import os\n",
    "with tempfile.NamedTemporaryFile(prefix='fasttext-', delete=False) as tmp:\n",
    "    model_news.save(tmp.name, separately=[])\n",
    "\n",
    "# model = FastText.load(fname)"
   ]
  }
 ],
 "metadata": {
  "kernelspec": {
   "display_name": "Python [conda env:snorkel]",
   "language": "python",
   "name": "conda-env-snorkel-py"
  },
  "language_info": {
   "codemirror_mode": {
    "name": "ipython",
    "version": 3
   },
   "file_extension": ".py",
   "mimetype": "text/x-python",
   "name": "python",
   "nbconvert_exporter": "python",
   "pygments_lexer": "ipython3",
   "version": "3.6.12"
  }
 },
 "nbformat": 4,
 "nbformat_minor": 2
}
